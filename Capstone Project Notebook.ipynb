{
    "cells": [
        {
            "metadata": {
                "collapsed": true
            },
            "cell_type": "markdown",
            "source": "# Capstone Project: Missouri Traffic Accident Severity Predictions\n**_By: Kelly McDowell_**"
        },
        {
            "metadata": {},
            "cell_type": "markdown",
            "source": "## Introduction and Business Understanding"
        },
        {
            "metadata": {},
            "cell_type": "markdown",
            "source": "### Overview\nThe economic and societal impact of traffic accident cost U.S. citizens hundreds of billions of dollars every year. Reducing traffic accidents, especially serious accidents, is an important challenge. A proactive approach would focus on preventing potential unsafe road conditions from occuring in the first place. For effective implementation of this approach, severity prediction based on road and weather conditions is critical.  If we can identify the patterns of how these serious accident happen and the key factors, we may be able to impement well-informed driving actions.\n\n### Objectives\nThis project will focus on predicting the severity of an accident based on road and weather conditions in the state of Missouri. The first objective will be to identify key factors affecting an accident's severity, with a focus on conditions that cause the most severe accidents. The second objective will be to develop a model that can accurately predict accident severity based on the key factors identified. Missouri is known for unpredicatable and rapidly changing weather. This model will help Missourians make an infomed decision regarding whether or not they should drive based on the current weather and road conditions' likelihood to lead to a severe accident."
        },
        {
            "metadata": {},
            "cell_type": "markdown",
            "source": "## Data Overview\nThis project is starting with a countrywide traffic accident dataset, which covers 49 states of the United States. The data is continuously being collected from February 2016, using several data providers, including two APIs which provide streaming traffic event data. These APIs broadcast traffic events captured by a variety of entities, such as the US and state departments of transportation, law enforcement agencies, traffic cameras, and traffic sensors within the road-networks. Currently, there are about *3.5 million* accident records in this dataset. I will only be utilizing the accident data recorded for the state of Missouri for this project.\n### Acknowledgements\n  * Moosavi, Sobhan, Mohammad Hossein Samavatian, Srinivasan Parthasarathy, and Rajiv Ramnath. [\u201cA Countrywide Traffic Accident Dataset.\u201d](https://arxiv.org/abs/1906.05409), arXiv preprint arXiv:1906.05409 (2019).\n  * Moosavi, Sobhan, Mohammad Hossein Samavatian, Srinivasan Parthasarathy, Radu Teodorescu, and Rajiv Ramnath. [\u201cAccident Risk Prediction based on Heterogeneous Sparse Data: New Dataset and Insights.\u201d](https://arxiv.org/abs/1909.09638) In proceedings of the 27th ACM SIGSPATIAL International Conference on Advances in Geographic Information Systems, ACM, 2019."
        },
        {
            "metadata": {},
            "cell_type": "code",
            "source": "import pandas as pd\nimport numpy as np\nimport matplotlib.pyplot as plt\nimport seaborn as sns\nimport datetime\nplt.style.use('fivethirtyeight')",
            "execution_count": 49,
            "outputs": []
        },
        {
            "metadata": {},
            "cell_type": "code",
            "source": "\nimport types\nimport pandas as pd\nfrom botocore.client import Config\nimport ibm_boto3\n\ndef __iter__(self): return 0\n\n# @hidden_cell\n# The following code accesses a file in your IBM Cloud Object Storage. It includes your credentials.\n# You might want to remove those credentials before you share the notebook.\nclient_f0bdf03a1b864974b62e6f279370aa76 = ibm_boto3.client(service_name='s3',\n    ibm_api_key_id='qmdGtKcc-BVL7eOaevSydowgoOQCS5G6EjqNMQ0m-J6D',\n    ibm_auth_endpoint=\"https://iam.cloud.ibm.com/oidc/token\",\n    config=Config(signature_version='oauth'),\n    endpoint_url='https://s3-api.us-geo.objectstorage.service.networklayer.com')\n\nbody = client_f0bdf03a1b864974b62e6f279370aa76.get_object(Bucket='courseracapstone-donotdelete-pr-rzbqicgeuphv3r',Key='US_Accidents_June20.csv')['Body']\n# add missing __iter__ method, so pandas accepts body as file-like object\nif not hasattr(body, \"__iter__\"): body.__iter__ = types.MethodType( __iter__, body )\n\ndf_data_1 = pd.read_csv(body)\ndf_data_1.head()",
            "execution_count": 54,
            "outputs": [
                {
                    "output_type": "execute_result",
                    "execution_count": 54,
                    "data": {
                        "text/plain": "    ID    Source    TMC  Severity           Start_Time             End_Time  \\\n0  A-1  MapQuest  201.0         3  2016-02-08 05:46:00  2016-02-08 11:00:00   \n1  A-2  MapQuest  201.0         2  2016-02-08 06:07:59  2016-02-08 06:37:59   \n2  A-3  MapQuest  201.0         2  2016-02-08 06:49:27  2016-02-08 07:19:27   \n3  A-4  MapQuest  201.0         3  2016-02-08 07:23:34  2016-02-08 07:53:34   \n4  A-5  MapQuest  201.0         2  2016-02-08 07:39:07  2016-02-08 08:09:07   \n\n   Start_Lat  Start_Lng  End_Lat  End_Lng  ...  Roundabout Station   Stop  \\\n0  39.865147 -84.058723      NaN      NaN  ...       False   False  False   \n1  39.928059 -82.831184      NaN      NaN  ...       False   False  False   \n2  39.063148 -84.032608      NaN      NaN  ...       False   False  False   \n3  39.747753 -84.205582      NaN      NaN  ...       False   False  False   \n4  39.627781 -84.188354      NaN      NaN  ...       False   False  False   \n\n  Traffic_Calming Traffic_Signal Turning_Loop Sunrise_Sunset Civil_Twilight  \\\n0           False          False        False          Night          Night   \n1           False          False        False          Night          Night   \n2           False           True        False          Night          Night   \n3           False          False        False          Night            Day   \n4           False           True        False            Day            Day   \n\n  Nautical_Twilight Astronomical_Twilight  \n0             Night                 Night  \n1             Night                   Day  \n2               Day                   Day  \n3               Day                   Day  \n4               Day                   Day  \n\n[5 rows x 49 columns]",
                        "text/html": "<div>\n<style scoped>\n    .dataframe tbody tr th:only-of-type {\n        vertical-align: middle;\n    }\n\n    .dataframe tbody tr th {\n        vertical-align: top;\n    }\n\n    .dataframe thead th {\n        text-align: right;\n    }\n</style>\n<table border=\"1\" class=\"dataframe\">\n  <thead>\n    <tr style=\"text-align: right;\">\n      <th></th>\n      <th>ID</th>\n      <th>Source</th>\n      <th>TMC</th>\n      <th>Severity</th>\n      <th>Start_Time</th>\n      <th>End_Time</th>\n      <th>Start_Lat</th>\n      <th>Start_Lng</th>\n      <th>End_Lat</th>\n      <th>End_Lng</th>\n      <th>...</th>\n      <th>Roundabout</th>\n      <th>Station</th>\n      <th>Stop</th>\n      <th>Traffic_Calming</th>\n      <th>Traffic_Signal</th>\n      <th>Turning_Loop</th>\n      <th>Sunrise_Sunset</th>\n      <th>Civil_Twilight</th>\n      <th>Nautical_Twilight</th>\n      <th>Astronomical_Twilight</th>\n    </tr>\n  </thead>\n  <tbody>\n    <tr>\n      <th>0</th>\n      <td>A-1</td>\n      <td>MapQuest</td>\n      <td>201.0</td>\n      <td>3</td>\n      <td>2016-02-08 05:46:00</td>\n      <td>2016-02-08 11:00:00</td>\n      <td>39.865147</td>\n      <td>-84.058723</td>\n      <td>NaN</td>\n      <td>NaN</td>\n      <td>...</td>\n      <td>False</td>\n      <td>False</td>\n      <td>False</td>\n      <td>False</td>\n      <td>False</td>\n      <td>False</td>\n      <td>Night</td>\n      <td>Night</td>\n      <td>Night</td>\n      <td>Night</td>\n    </tr>\n    <tr>\n      <th>1</th>\n      <td>A-2</td>\n      <td>MapQuest</td>\n      <td>201.0</td>\n      <td>2</td>\n      <td>2016-02-08 06:07:59</td>\n      <td>2016-02-08 06:37:59</td>\n      <td>39.928059</td>\n      <td>-82.831184</td>\n      <td>NaN</td>\n      <td>NaN</td>\n      <td>...</td>\n      <td>False</td>\n      <td>False</td>\n      <td>False</td>\n      <td>False</td>\n      <td>False</td>\n      <td>False</td>\n      <td>Night</td>\n      <td>Night</td>\n      <td>Night</td>\n      <td>Day</td>\n    </tr>\n    <tr>\n      <th>2</th>\n      <td>A-3</td>\n      <td>MapQuest</td>\n      <td>201.0</td>\n      <td>2</td>\n      <td>2016-02-08 06:49:27</td>\n      <td>2016-02-08 07:19:27</td>\n      <td>39.063148</td>\n      <td>-84.032608</td>\n      <td>NaN</td>\n      <td>NaN</td>\n      <td>...</td>\n      <td>False</td>\n      <td>False</td>\n      <td>False</td>\n      <td>False</td>\n      <td>True</td>\n      <td>False</td>\n      <td>Night</td>\n      <td>Night</td>\n      <td>Day</td>\n      <td>Day</td>\n    </tr>\n    <tr>\n      <th>3</th>\n      <td>A-4</td>\n      <td>MapQuest</td>\n      <td>201.0</td>\n      <td>3</td>\n      <td>2016-02-08 07:23:34</td>\n      <td>2016-02-08 07:53:34</td>\n      <td>39.747753</td>\n      <td>-84.205582</td>\n      <td>NaN</td>\n      <td>NaN</td>\n      <td>...</td>\n      <td>False</td>\n      <td>False</td>\n      <td>False</td>\n      <td>False</td>\n      <td>False</td>\n      <td>False</td>\n      <td>Night</td>\n      <td>Day</td>\n      <td>Day</td>\n      <td>Day</td>\n    </tr>\n    <tr>\n      <th>4</th>\n      <td>A-5</td>\n      <td>MapQuest</td>\n      <td>201.0</td>\n      <td>2</td>\n      <td>2016-02-08 07:39:07</td>\n      <td>2016-02-08 08:09:07</td>\n      <td>39.627781</td>\n      <td>-84.188354</td>\n      <td>NaN</td>\n      <td>NaN</td>\n      <td>...</td>\n      <td>False</td>\n      <td>False</td>\n      <td>False</td>\n      <td>False</td>\n      <td>True</td>\n      <td>False</td>\n      <td>Day</td>\n      <td>Day</td>\n      <td>Day</td>\n      <td>Day</td>\n    </tr>\n  </tbody>\n</table>\n<p>5 rows \u00d7 49 columns</p>\n</div>"
                    },
                    "metadata": {}
                }
            ]
        },
        {
            "metadata": {},
            "cell_type": "code",
            "source": "df_data_1.info()",
            "execution_count": 55,
            "outputs": [
                {
                    "output_type": "stream",
                    "text": "<class 'pandas.core.frame.DataFrame'>\nRangeIndex: 3513617 entries, 0 to 3513616\nData columns (total 49 columns):\nID                       object\nSource                   object\nTMC                      float64\nSeverity                 int64\nStart_Time               object\nEnd_Time                 object\nStart_Lat                float64\nStart_Lng                float64\nEnd_Lat                  float64\nEnd_Lng                  float64\nDistance(mi)             float64\nDescription              object\nNumber                   float64\nStreet                   object\nSide                     object\nCity                     object\nCounty                   object\nState                    object\nZipcode                  object\nCountry                  object\nTimezone                 object\nAirport_Code             object\nWeather_Timestamp        object\nTemperature(F)           float64\nWind_Chill(F)            float64\nHumidity(%)              float64\nPressure(in)             float64\nVisibility(mi)           float64\nWind_Direction           object\nWind_Speed(mph)          float64\nPrecipitation(in)        float64\nWeather_Condition        object\nAmenity                  bool\nBump                     bool\nCrossing                 bool\nGive_Way                 bool\nJunction                 bool\nNo_Exit                  bool\nRailway                  bool\nRoundabout               bool\nStation                  bool\nStop                     bool\nTraffic_Calming          bool\nTraffic_Signal           bool\nTurning_Loop             bool\nSunrise_Sunset           object\nCivil_Twilight           object\nNautical_Twilight        object\nAstronomical_Twilight    object\ndtypes: bool(13), float64(14), int64(1), object(21)\nmemory usage: 1008.6+ MB\n",
                    "name": "stdout"
                }
            ]
        },
        {
            "metadata": {},
            "cell_type": "code",
            "source": "",
            "execution_count": null,
            "outputs": []
        }
    ],
    "metadata": {
        "kernelspec": {
            "name": "python3",
            "display_name": "Python 3.6",
            "language": "python"
        },
        "language_info": {
            "name": "python",
            "version": "3.6.9",
            "mimetype": "text/x-python",
            "codemirror_mode": {
                "name": "ipython",
                "version": 3
            },
            "pygments_lexer": "ipython3",
            "nbconvert_exporter": "python",
            "file_extension": ".py"
        }
    },
    "nbformat": 4,
    "nbformat_minor": 1
}